{
 "cells": [
  {
   "cell_type": "markdown",
   "metadata": {
    "id": "qHccfjGguDug"
   },
   "source": [
    "### Attribute Information:\n",
    "\n",
    "* Article\n",
    "* Category\n",
    "\n",
    "The feature names are themselves pretty self-explanatory."
   ]
  },
  {
   "cell_type": "markdown",
   "metadata": {
    "id": "99nJeW1ut_Yd"
   },
   "source": [
    "### Our Approach:\n",
    "\n",
    "1. Importing the libraries\n",
    "2. Loading the dataset\n",
    "  * Mounting the drive\n",
    "  * Reading the data file\n",
    "3. Data Exploration\n",
    "  * Shape of the dataset\n",
    "  * News articles per category\n",
    "4. Text Processing\n",
    "  * Removing the non-letters\n",
    "  * Tokenizing the text\n",
    "  * Removing stopwords\n",
    "  * Lemmatization\n",
    "5. Data Transformation\n",
    "  * Encoding the target variable\n",
    "  * Bag of Words\n",
    "  * TF-IDF\n",
    "  * Train-Test Split\n",
    "6. Model Training & Evaluation\n",
    "  * Simple Approach\n",
    "    * Naive Bayes\n",
    "  * Functionalized Code\n",
    "    * Decision Tree\n",
    "    * Nearest Neighbors\n",
    "    * Random Forest"
   ]
  },
  {
   "cell_type": "code",
   "execution_count": 2,
   "metadata": {
    "id": "8mqQTRLYuBaa"
   },
   "outputs": [],
   "source": [
    "# To ignore all warnings\n",
    "import warnings\n",
    "\n",
    "# For reading & manipulating the data\n",
    "import pandas as pd\n",
    "import numpy as np\n",
    "\n",
    "# For visualizing the data\n",
    "import matplotlib.pyplot as plt\n",
    "import seaborn as sns\n",
    "\n",
    "# To use Regular Expressions\n",
    "import re\n",
    "\n",
    "# To use Natural Language Processing\n",
    "import nltk\n",
    "\n",
    "# For tokenization\n",
    "from nltk.tokenize import word_tokenize\n",
    "#nltk.download('punkt')\n",
    "\n",
    "# To remove stopwords\n",
    "from nltk.corpus import stopwords\n",
    "#nltk.download('stopwords')\n",
    "\n",
    "# For lemmetization\n",
    "from nltk import WordNetLemmatizer\n",
    "#nltk.download('wordnet')\n",
    "\n",
    "# For BoW & TF-IDF\n",
    "from sklearn.feature_extraction.text import CountVectorizer, TfidfVectorizer\n",
    "\n",
    "# For encoding the categorical variable\n",
    "import category_encoders as ce\n",
    "\n",
    "# To try out different ML models\n",
    "from sklearn.tree import DecisionTreeClassifier\n",
    "from sklearn.neighbors import KNeighborsClassifier\n",
    "from sklearn.naive_bayes import MultinomialNB\n",
    "from sklearn.ensemble import RandomForestClassifier\n",
    "\n",
    "# To perform train-test split\n",
    "from sklearn.model_selection import train_test_split\n",
    "\n",
    "# Performace Metrics for evaluating the model\n",
    "from sklearn.metrics import accuracy_score, roc_auc_score, f1_score, precision_score, recall_score\n",
    "from sklearn.metrics import confusion_matrix, classification_report\n",
    "\n",
    "warnings.filterwarnings('ignore')\n"
   ]
  },
  {
   "cell_type": "code",
   "execution_count": 3,
   "metadata": {
    "colab": {
     "base_uri": "https://localhost:8080/",
     "height": 363
    },
    "id": "BX8p0dmwuJQD",
    "outputId": "85b4cfc7-11fb-4983-d9ff-7a7487c835ce"
   },
   "outputs": [
    {
     "data": {
      "text/html": [
       "<div>\n",
       "<style scoped>\n",
       "    .dataframe tbody tr th:only-of-type {\n",
       "        vertical-align: middle;\n",
       "    }\n",
       "\n",
       "    .dataframe tbody tr th {\n",
       "        vertical-align: top;\n",
       "    }\n",
       "\n",
       "    .dataframe thead th {\n",
       "        text-align: right;\n",
       "    }\n",
       "</style>\n",
       "<table border=\"1\" class=\"dataframe\">\n",
       "  <thead>\n",
       "    <tr style=\"text-align: right;\">\n",
       "      <th></th>\n",
       "      <th>Category</th>\n",
       "      <th>Article</th>\n",
       "    </tr>\n",
       "  </thead>\n",
       "  <tbody>\n",
       "    <tr>\n",
       "      <th>1978</th>\n",
       "      <td>Business</td>\n",
       "      <td>venezuela reviews foreign deals venezuela is t...</td>\n",
       "    </tr>\n",
       "    <tr>\n",
       "      <th>1350</th>\n",
       "      <td>Entertainment</td>\n",
       "      <td>snow patrol bassist exits group snow patrol ha...</td>\n",
       "    </tr>\n",
       "    <tr>\n",
       "      <th>1589</th>\n",
       "      <td>Business</td>\n",
       "      <td>weak dollar hits reuters revenues at media gro...</td>\n",
       "    </tr>\n",
       "    <tr>\n",
       "      <th>1341</th>\n",
       "      <td>Business</td>\n",
       "      <td>georgia plans hidden asset pardon georgia is o...</td>\n",
       "    </tr>\n",
       "    <tr>\n",
       "      <th>1235</th>\n",
       "      <td>Business</td>\n",
       "      <td>us to probe airline travel chaos the us govern...</td>\n",
       "    </tr>\n",
       "    <tr>\n",
       "      <th>2186</th>\n",
       "      <td>Business</td>\n",
       "      <td>battered dollar hits another low the dollar ha...</td>\n",
       "    </tr>\n",
       "    <tr>\n",
       "      <th>483</th>\n",
       "      <td>Business</td>\n",
       "      <td>mixed reaction to man utd offer shares in manc...</td>\n",
       "    </tr>\n",
       "    <tr>\n",
       "      <th>1994</th>\n",
       "      <td>Sports</td>\n",
       "      <td>mourinho plots impressive course chelsea s win...</td>\n",
       "    </tr>\n",
       "    <tr>\n",
       "      <th>1766</th>\n",
       "      <td>Technology</td>\n",
       "      <td>china  to overtake us net use  the chinese net...</td>\n",
       "    </tr>\n",
       "    <tr>\n",
       "      <th>1481</th>\n",
       "      <td>Politics</td>\n",
       "      <td>tories  would cut number of mps  the conservat...</td>\n",
       "    </tr>\n",
       "  </tbody>\n",
       "</table>\n",
       "</div>"
      ],
      "text/plain": [
       "           Category                                            Article\n",
       "1978       Business  venezuela reviews foreign deals venezuela is t...\n",
       "1350  Entertainment  snow patrol bassist exits group snow patrol ha...\n",
       "1589       Business  weak dollar hits reuters revenues at media gro...\n",
       "1341       Business  georgia plans hidden asset pardon georgia is o...\n",
       "1235       Business  us to probe airline travel chaos the us govern...\n",
       "2186       Business  battered dollar hits another low the dollar ha...\n",
       "483        Business  mixed reaction to man utd offer shares in manc...\n",
       "1994         Sports  mourinho plots impressive course chelsea s win...\n",
       "1766     Technology  china  to overtake us net use  the chinese net...\n",
       "1481       Politics  tories  would cut number of mps  the conservat..."
      ]
     },
     "execution_count": 3,
     "metadata": {},
     "output_type": "execute_result"
    }
   ],
   "source": [
    "df = pd.read_csv('newz-data.csv')\n",
    "df.sample(10)"
   ]
  },
  {
   "cell_type": "code",
   "execution_count": 4,
   "metadata": {
    "colab": {
     "base_uri": "https://localhost:8080/"
    },
    "id": "zX_rJr4gmchO",
    "outputId": "99efa50a-dce9-421f-a380-3df397c016c0"
   },
   "outputs": [
    {
     "name": "stdout",
     "output_type": "stream",
     "text": [
      "no. of rows:  2225\n"
     ]
    }
   ],
   "source": [
    "print(\"no. of rows: \", df.shape[0])"
   ]
  },
  {
   "cell_type": "code",
   "execution_count": 5,
   "metadata": {
    "colab": {
     "base_uri": "https://localhost:8080/",
     "height": 482
    },
    "id": "oQv72gNrnm_I",
    "outputId": "cfadf313-34ea-40dd-b766-9733d9b20a22"
   },
   "outputs": [
    {
     "data": {
      "text/plain": [
       "[Text(0, 0, '401')]"
      ]
     },
     "execution_count": 5,
     "metadata": {},
     "output_type": "execute_result"
    },
    {
     "data": {
      "image/png": "[encoded data removed]",
      "text/plain": [
       "<Figure size 800x500 with 1 Axes>"
      ]
     },
     "metadata": {},
     "output_type": "display_data"
    }
   ],
   "source": [
    "plt.figure(figsize=(8, 5))\n",
    "ax = sns.countplot(x='Category', data=df, palette='Blues')\n",
    "ax.bar_label(ax.containers[0])"
   ]
  },
  {
   "cell_type": "code",
   "execution_count": 6,
   "metadata": {
    "colab": {
     "base_uri": "https://localhost:8080/",
     "height": 243
    },
    "id": "3DyrNJTNnyB1",
    "outputId": "11f675a8-ecb4-47ca-fcad-23b5269420ff"
   },
   "outputs": [
    {
     "data": {
      "text/plain": [
       "'worldcom boss  left books alone  former worldcom boss bernie ebbers  who is accused of overseeing an $11bn (£5.8bn) fraud  never made accounting decisions  a witness has told jurors.  david myers made the comments under questioning by defence lawyers who have been arguing that mr ebbers was not responsible for worldcom s problems. the phone company collapsed in 2002 and prosecutors claim that losses were hidden to protect the firm s shares. mr myers has already pleaded guilty to fraud and is assisting prosecutors.  on monday  defence lawyer reid weingarten tried to distance his client from the allegations. during cross examination  he asked mr myers if he ever knew mr ebbers  make an accounting decision  .  not that i am aware of   mr myers replied.  did you ever know mr ebbers to make an accounting entry into worldcom books   mr weingarten pressed.  no   replied the witness. mr myers has admitted that he ordered false accounting entries at the request of former worldcom chief financial officer scott sullivan. defence lawyers have been trying to paint mr sullivan  who has admitted fraud and will testify later in the trial  as the mastermind behind worldcom s accounting house of cards.  mr ebbers  team  meanwhile  are looking to portray him as an affable boss  who by his own admission is more pe graduate than economist. whatever his abilities  mr ebbers transformed worldcom from a relative unknown into a $160bn telecoms giant and investor darling of the late 1990s. worldcom s problems mounted  however  as competition increased and the telecoms boom petered out. when the firm finally collapsed  shareholders lost about $180bn and 20 000 workers lost their jobs. mr ebbers  trial is expected to last two months and if found guilty the former ceo faces a substantial jail sentence. he has firmly declared his innocence.'"
      ]
     },
     "execution_count": 6,
     "metadata": {},
     "output_type": "execute_result"
    }
   ],
   "source": [
    "df['Article'][1]"
   ]
  },
  {
   "cell_type": "code",
   "execution_count": 7,
   "metadata": {
    "id": "-DBRL4x4oAnB"
   },
   "outputs": [],
   "source": [
    "encode = ce.OrdinalEncoder(cols=['Category'])\n",
    "df = encode.fit_transform(df)"
   ]
  },
  {
   "cell_type": "code",
   "execution_count": 8,
   "metadata": {
    "colab": {
     "base_uri": "https://localhost:8080/",
     "height": 363
    },
    "id": "4iQqqB81oKga",
    "outputId": "6ce8d7fc-a3f4-48d3-8568-c5b6a3de82eb"
   },
   "outputs": [
    {
     "data": {
      "text/html": [
       "<div>\n",
       "<style scoped>\n",
       "    .dataframe tbody tr th:only-of-type {\n",
       "        vertical-align: middle;\n",
       "    }\n",
       "\n",
       "    .dataframe tbody tr th {\n",
       "        vertical-align: top;\n",
       "    }\n",
       "\n",
       "    .dataframe thead th {\n",
       "        text-align: right;\n",
       "    }\n",
       "</style>\n",
       "<table border=\"1\" class=\"dataframe\">\n",
       "  <thead>\n",
       "    <tr style=\"text-align: right;\">\n",
       "      <th></th>\n",
       "      <th>Category</th>\n",
       "      <th>Article</th>\n",
       "    </tr>\n",
       "  </thead>\n",
       "  <tbody>\n",
       "    <tr>\n",
       "      <th>506</th>\n",
       "      <td>3</td>\n",
       "      <td>chelsea clinch cup in extra-time (after extra-...</td>\n",
       "    </tr>\n",
       "    <tr>\n",
       "      <th>1086</th>\n",
       "      <td>2</td>\n",
       "      <td>shares hit by ms drug suspension shares in ela...</td>\n",
       "    </tr>\n",
       "    <tr>\n",
       "      <th>540</th>\n",
       "      <td>2</td>\n",
       "      <td>bank holds interest rate at 4.75% the bank of ...</td>\n",
       "    </tr>\n",
       "    <tr>\n",
       "      <th>1437</th>\n",
       "      <td>5</td>\n",
       "      <td>police chief backs drinking move a chief const...</td>\n",
       "    </tr>\n",
       "    <tr>\n",
       "      <th>1135</th>\n",
       "      <td>2</td>\n",
       "      <td>mixed christmas for us retailers us retailers ...</td>\n",
       "    </tr>\n",
       "    <tr>\n",
       "      <th>1208</th>\n",
       "      <td>5</td>\n",
       "      <td>blair looks to election campaign tony blair s ...</td>\n",
       "    </tr>\n",
       "    <tr>\n",
       "      <th>982</th>\n",
       "      <td>3</td>\n",
       "      <td>dementieva prevails in hong kong elena dementi...</td>\n",
       "    </tr>\n",
       "    <tr>\n",
       "      <th>190</th>\n",
       "      <td>5</td>\n",
       "      <td>kinnock to urge reform in lords neil kinnock h...</td>\n",
       "    </tr>\n",
       "    <tr>\n",
       "      <th>331</th>\n",
       "      <td>1</td>\n",
       "      <td>cebit fever takes over hanover thousands of pr...</td>\n",
       "    </tr>\n",
       "    <tr>\n",
       "      <th>315</th>\n",
       "      <td>3</td>\n",
       "      <td>white prepared for battle tough-scrummaging pr...</td>\n",
       "    </tr>\n",
       "  </tbody>\n",
       "</table>\n",
       "</div>"
      ],
      "text/plain": [
       "      Category                                            Article\n",
       "506          3  chelsea clinch cup in extra-time (after extra-...\n",
       "1086         2  shares hit by ms drug suspension shares in ela...\n",
       "540          2  bank holds interest rate at 4.75% the bank of ...\n",
       "1437         5  police chief backs drinking move a chief const...\n",
       "1135         2  mixed christmas for us retailers us retailers ...\n",
       "1208         5  blair looks to election campaign tony blair s ...\n",
       "982          3  dementieva prevails in hong kong elena dementi...\n",
       "190          5  kinnock to urge reform in lords neil kinnock h...\n",
       "331          1  cebit fever takes over hanover thousands of pr...\n",
       "315          3  white prepared for battle tough-scrummaging pr..."
      ]
     },
     "execution_count": 8,
     "metadata": {},
     "output_type": "execute_result"
    }
   ],
   "source": [
    "df.sample(10)"
   ]
  },
  {
   "cell_type": "markdown",
   "metadata": {
    "id": "LBfIvBAfoPYD"
   },
   "source": [
    "# Let's start with TF-IDF"
   ]
  },
  {
   "cell_type": "code",
   "execution_count": 9,
   "metadata": {
    "id": "chYg19dFoMUv"
   },
   "outputs": [],
   "source": [
    "tf_idf = TfidfVectorizer()\n",
    "\n",
    "X = tf_idf.fit_transform(df['Article']).toarray()\n",
    "y = np.array(df['Category'].values)"
   ]
  },
  {
   "cell_type": "code",
   "execution_count": 10,
   "metadata": {
    "id": "JjXBUGoyoZ8z"
   },
   "outputs": [],
   "source": [
    "X_train, X_val, y_train, y_val = train_test_split(X, y, test_size = 0.25, shuffle=True, stratify=y)"
   ]
  },
  {
   "cell_type": "code",
   "execution_count": 11,
   "metadata": {
    "colab": {
     "base_uri": "https://localhost:8080/"
    },
    "id": "SazdcyA8pOj8",
    "outputId": "f1d86589-7cca-44ee-85aa-e9329611ba4b"
   },
   "outputs": [
    {
     "name": "stdout",
     "output_type": "stream",
     "text": [
      "No  of rows in train: 1668\n",
      "No  of rows in validation: 557\n"
     ]
    }
   ],
   "source": [
    "print(\"No  of rows in train:\" , X_train.shape[0])\n",
    "print(\"No  of rows in validation:\" , X_val.shape[0])"
   ]
  },
  {
   "cell_type": "code",
   "execution_count": 12,
   "metadata": {
    "colab": {
     "base_uri": "https://localhost:8080/"
    },
    "id": "619E6OXfplUa",
    "outputId": "6d00542f-2315-4e96-a585-a8317168c77f"
   },
   "outputs": [
    {
     "data": {
      "text/plain": [
       "array([[0.       , 0.       , 0.       , ..., 0.       , 0.       ,\n",
       "        0.       ],\n",
       "       [0.       , 0.       , 0.       , ..., 0.       , 0.       ,\n",
       "        0.       ],\n",
       "       [0.       , 0.0253269, 0.       , ..., 0.       , 0.       ,\n",
       "        0.       ],\n",
       "       [0.       , 0.       , 0.       , ..., 0.       , 0.       ,\n",
       "        0.       ],\n",
       "       [0.       , 0.       , 0.       , ..., 0.       , 0.       ,\n",
       "        0.       ]])"
      ]
     },
     "execution_count": 12,
     "metadata": {},
     "output_type": "execute_result"
    }
   ],
   "source": [
    "X_train[:5]"
   ]
  },
  {
   "cell_type": "code",
   "execution_count": 13,
   "metadata": {
    "colab": {
     "base_uri": "https://localhost:8080/"
    },
    "id": "7m9ZHkwFppII",
    "outputId": "3580eaf8-7a54-403f-f363-41bc04d26bcd"
   },
   "outputs": [
    {
     "data": {
      "text/plain": [
       "(array([0.        , 0.01245139, 0.01321266, 0.01428689, 0.01443042,\n",
       "        0.01523697, 0.01536367, 0.01551315, 0.01598014, 0.0160323 ,\n",
       "        0.01753061, 0.01764915, 0.01890139, 0.02061454, 0.02213004,\n",
       "        0.02313443, 0.02440224, 0.02547413, 0.02729726, 0.02839282,\n",
       "        0.02858475, 0.0298156 , 0.02983833, 0.0313289 , 0.03395463,\n",
       "        0.03411416, 0.03421088, 0.03424328, 0.03568706, 0.0359822 ,\n",
       "        0.0363613 , 0.03663374, 0.03695262, 0.03752235, 0.03778765,\n",
       "        0.03783092, 0.03845305, 0.03901234, 0.03969844, 0.04016044,\n",
       "        0.04079788, 0.04195842, 0.04207995, 0.04290031, 0.04329806,\n",
       "        0.04343353, 0.04510821, 0.04550427, 0.04659747, 0.0482904 ,\n",
       "        0.04945168, 0.04990248, 0.05013418, 0.05110688, 0.05123402,\n",
       "        0.05136247, 0.05175601, 0.05393628, 0.05425826, 0.05458883,\n",
       "        0.05698354, 0.05739677, 0.05760866, 0.05896225, 0.05969884,\n",
       "        0.0599511 , 0.06103298, 0.06245302, 0.06256535, 0.06453554,\n",
       "        0.06537394, 0.0666356 , 0.06854639, 0.06962494, 0.07080637,\n",
       "        0.07144218, 0.07282088, 0.07378098, 0.07522756, 0.07614617,\n",
       "        0.07939832, 0.08070433, 0.08216432, 0.08381951, 0.08799028,\n",
       "        0.09075627, 0.09432226, 0.09934823, 0.10985691, 0.12493239,\n",
       "        0.12871666, 0.13240124, 0.13900949, 0.14224516, 0.1487469 ,\n",
       "        0.15879665, 0.2974894 , 0.62662447]),\n",
       " array([29302,     1,     1,     1,     1,     1,     1,     1,     1,\n",
       "            1,     1,     1,     1,     1,     1,     1,     1,     1,\n",
       "            1,     1,     1,     1,     1,     1,     1,     1,     1,\n",
       "            1,     1,     1,     1,     1,     1,     1,     1,     2,\n",
       "            1,     1,     1,     1,     1,     1,     1,     1,     1,\n",
       "            1,     1,     1,     1,     1,     1,     2,     1,     1,\n",
       "            3,     1,     1,     1,     1,     1,     1,     1,     1,\n",
       "            2,     1,     1,     1,     1,     1,     1,     1,     2,\n",
       "            2,     1,     1,     1,     1,     1,     2,     1,     1,\n",
       "            1,     1,     5,     2,     4,     5,     3,     1,     1,\n",
       "            1,     1,     1,     1,     1,     1,     1,     1]))"
      ]
     },
     "execution_count": 13,
     "metadata": {},
     "output_type": "execute_result"
    }
   ],
   "source": [
    "np.unique(X_train[0], return_counts=True)"
   ]
  },
  {
   "cell_type": "markdown",
   "metadata": {
    "id": "1gYNGIlcpWD_"
   },
   "source": [
    "## Simple approaches"
   ]
  },
  {
   "cell_type": "markdown",
   "metadata": {
    "id": "6GQTVfwppXxe"
   },
   "source": [
    "### Multinomial Naive Bayes"
   ]
  },
  {
   "cell_type": "code",
   "execution_count": 14,
   "metadata": {
    "colab": {
     "base_uri": "https://localhost:8080/",
     "height": 80
    },
    "id": "mEuXmZENpUvv",
    "outputId": "28a43900-05ea-4c19-a77b-4f9556acd342"
   },
   "outputs": [
    {
     "data": {
      "text/html": [
       "<style>#sk-container-id-1 {color: black;}#sk-container-id-1 pre{padding: 0;}#sk-container-id-1 div.sk-toggleable {background-color: white;}#sk-container-id-1 label.sk-toggleable__label {cursor: pointer;display: block;width: 100%;margin-bottom: 0;padding: 0.3em;box-sizing: border-box;text-align: center;}#sk-container-id-1 label.sk-toggleable__label-arrow:before {content: \"▸\";float: left;margin-right: 0.25em;color: #696969;}#sk-container-id-1 label.sk-toggleable__label-arrow:hover:before {color: black;}#sk-container-id-1 div.sk-estimator:hover label.sk-toggleable__label-arrow:before {color: black;}#sk-container-id-1 div.sk-toggleable__content {max-height: 0;max-width: 0;overflow: hidden;text-align: left;background-color: #f0f8ff;}#sk-container-id-1 div.sk-toggleable__content pre {margin: 0.2em;color: black;border-radius: 0.25em;background-color: #f0f8ff;}#sk-container-id-1 input.sk-toggleable__control:checked~div.sk-toggleable__content {max-height: 200px;max-width: 100%;overflow: auto;}#sk-container-id-1 input.sk-toggleable__control:checked~label.sk-toggleable__label-arrow:before {content: \"▾\";}#sk-container-id-1 div.sk-estimator input.sk-toggleable__control:checked~label.sk-toggleable__label {background-color: #d4ebff;}#sk-container-id-1 div.sk-label input.sk-toggleable__control:checked~label.sk-toggleable__label {background-color: #d4ebff;}#sk-container-id-1 input.sk-hidden--visually {border: 0;clip: rect(1px 1px 1px 1px);clip: rect(1px, 1px, 1px, 1px);height: 1px;margin: -1px;overflow: hidden;padding: 0;position: absolute;width: 1px;}#sk-container-id-1 div.sk-estimator {font-family: monospace;background-color: #f0f8ff;border: 1px dotted black;border-radius: 0.25em;box-sizing: border-box;margin-bottom: 0.5em;}#sk-container-id-1 div.sk-estimator:hover {background-color: #d4ebff;}#sk-container-id-1 div.sk-parallel-item::after {content: \"\";width: 100%;border-bottom: 1px solid gray;flex-grow: 1;}#sk-container-id-1 div.sk-label:hover label.sk-toggleable__label {background-color: #d4ebff;}#sk-container-id-1 div.sk-serial::before {content: \"\";position: absolute;border-left: 1px solid gray;box-sizing: border-box;top: 0;bottom: 0;left: 50%;z-index: 0;}#sk-container-id-1 div.sk-serial {display: flex;flex-direction: column;align-items: center;background-color: white;padding-right: 0.2em;padding-left: 0.2em;position: relative;}#sk-container-id-1 div.sk-item {position: relative;z-index: 1;}#sk-container-id-1 div.sk-parallel {display: flex;align-items: stretch;justify-content: center;background-color: white;position: relative;}#sk-container-id-1 div.sk-item::before, #sk-container-id-1 div.sk-parallel-item::before {content: \"\";position: absolute;border-left: 1px solid gray;box-sizing: border-box;top: 0;bottom: 0;left: 50%;z-index: -1;}#sk-container-id-1 div.sk-parallel-item {display: flex;flex-direction: column;z-index: 1;position: relative;background-color: white;}#sk-container-id-1 div.sk-parallel-item:first-child::after {align-self: flex-end;width: 50%;}#sk-container-id-1 div.sk-parallel-item:last-child::after {align-self: flex-start;width: 50%;}#sk-container-id-1 div.sk-parallel-item:only-child::after {width: 0;}#sk-container-id-1 div.sk-dashed-wrapped {border: 1px dashed gray;margin: 0 0.4em 0.5em 0.4em;box-sizing: border-box;padding-bottom: 0.4em;background-color: white;}#sk-container-id-1 div.sk-label label {font-family: monospace;font-weight: bold;display: inline-block;line-height: 1.2em;}#sk-container-id-1 div.sk-label-container {text-align: center;}#sk-container-id-1 div.sk-container {/* jupyter's `normalize.less` sets `[hidden] { display: none; }` but bootstrap.min.css set `[hidden] { display: none !important; }` so we also need the `!important` here to be able to override the default hidden behavior on the sphinx rendered scikit-learn.org. See: https://github.com/scikit-learn/scikit-learn/issues/21755 */display: inline-block !important;position: relative;}#sk-container-id-1 div.sk-text-repr-fallback {display: none;}</style><div id=\"sk-container-id-1\" class=\"sk-top-container\"><div class=\"sk-text-repr-fallback\"><pre>MultinomialNB()</pre><b>In a Jupyter environment, please rerun this cell to show the HTML representation or trust the notebook. <br />On GitHub, the HTML representation is unable to render, please try loading this page with nbviewer.org.</b></div><div class=\"sk-container\" hidden><div class=\"sk-item\"><div class=\"sk-estimator sk-toggleable\"><input class=\"sk-toggleable__control sk-hidden--visually\" id=\"sk-estimator-id-1\" type=\"checkbox\" checked><label for=\"sk-estimator-id-1\" class=\"sk-toggleable__label sk-toggleable__label-arrow\">MultinomialNB</label><div class=\"sk-toggleable__content\"><pre>MultinomialNB()</pre></div></div></div></div></div>"
      ],
      "text/plain": [
       "MultinomialNB()"
      ]
     },
     "execution_count": 14,
     "metadata": {},
     "output_type": "execute_result"
    }
   ],
   "source": [
    "nb = MultinomialNB()\n",
    "\n",
    "nb.fit(X_train, y_train)"
   ]
  },
  {
   "cell_type": "code",
   "execution_count": 15,
   "metadata": {
    "colab": {
     "base_uri": "https://localhost:8080/"
    },
    "id": "1qvaQhhEpc_o",
    "outputId": "639082a5-eb54-4c85-beb0-a59d18efd0e1"
   },
   "outputs": [
    {
     "name": "stdout",
     "output_type": "stream",
     "text": [
      "Train Accuracy:  0.986810551558753\n",
      "Test Accuracy:  0.9461400359066428\n"
     ]
    }
   ],
   "source": [
    "nb_train = accuracy_score(y_train, nb.predict(X_train))\n",
    "nb_test = accuracy_score(y_val, nb.predict(X_val))\n",
    "\n",
    "print(\"Train Accuracy: \", nb_train)\n",
    "print(\"Test Accuracy: \", nb_test)"
   ]
  },
  {
   "cell_type": "code",
   "execution_count": 16,
   "metadata": {
    "colab": {
     "base_uri": "https://localhost:8080/"
    },
    "id": "_ZJ7H-Pbp8hJ",
    "outputId": "739d4c79-9f77-499b-c259-138598bde365"
   },
   "outputs": [
    {
     "data": {
      "text/plain": [
       "0.9981948830460908"
      ]
     },
     "execution_count": 16,
     "metadata": {},
     "output_type": "execute_result"
    }
   ],
   "source": [
    "y_pred_nb = nb.predict(X_val)\n",
    "y_pred_proba_nb = nb.predict_proba(X_val)\n",
    "\n",
    "roc_auc_score(y_val, y_pred_proba_nb, multi_class='ovr')"
   ]
  },
  {
   "cell_type": "code",
   "execution_count": 17,
   "metadata": {
    "colab": {
     "base_uri": "https://localhost:8080/"
    },
    "id": "ElzKCWmqqLTn",
    "outputId": "46c13eeb-9017-46d4-99f3-382a57de4cd9"
   },
   "outputs": [
    {
     "name": "stdout",
     "output_type": "stream",
     "text": [
      "Precision:  0.9481239538110097\n",
      "Recall:  0.9461400359066428\n",
      "F1 Score:  0.9451393248421434\n"
     ]
    }
   ],
   "source": [
    "precision = precision_score(y_val, y_pred_nb, average='weighted')\n",
    "recall = recall_score(y_val, y_pred_nb, average='weighted')\n",
    "f1 = f1_score(y_val, y_pred_nb, average='weighted')\n",
    "\n",
    "print(\"Precision: \", precision)\n",
    "print(\"Recall: \", recall)\n",
    "print(\"F1 Score: \", f1)"
   ]
  },
  {
   "cell_type": "code",
   "execution_count": 18,
   "metadata": {
    "colab": {
     "base_uri": "https://localhost:8080/",
     "height": 465
    },
    "id": "XnP7SlDGqXQE",
    "outputId": "065d00fe-393d-4a22-d050-e7daa87ea0be"
   },
   "outputs": [
    {
     "data": {
      "image/png": "[encoded data removed]",
      "text/plain": [
       "<Figure size 800x500 with 1 Axes>"
      ]
     },
     "metadata": {},
     "output_type": "display_data"
    }
   ],
   "source": [
    "cm = confusion_matrix(y_val, y_pred_nb)\n",
    "\n",
    "plt.figure(figsize=(8, 5))\n",
    "sns.heatmap(cm, annot=True, fmt='d', cbar=False, cmap='Blues')\n",
    "\n",
    "plt.xlabel('predicted label')\n",
    "plt.ylabel('actual label')\n",
    "plt.show()"
   ]
  },
  {
   "cell_type": "code",
   "execution_count": 19,
   "metadata": {
    "id": "_xfdQPr-qhpP"
   },
   "outputs": [],
   "source": [
    "def model_train(obj):\n",
    "  obj.fit(X_train, y_train) # Training the model\n",
    "  y_pred = obj.predict(X_val) # Making predictions\n",
    "  y_pred_proba = obj.predict_proba(X_val)\n",
    "  return y_pred, y_pred_proba\n",
    "\n",
    "\n",
    "def model_eval(obj, y_pred, y_pred_proba):\n",
    "    print(\"-------------------------\")\n",
    "\n",
    "    # Calculating the train & test accuracy\n",
    "    train_acc = accuracy_score(y_train, obj.predict(X_train))\n",
    "    test_acc = accuracy_score(y_val, obj.predict(X_val))\n",
    "\n",
    "    print(\"Train Accuracy: {:.3f}\".format(train_acc))\n",
    "    print(\"Test Accuracy: {:.3f}\\n\".format(test_acc))\n",
    "\n",
    "    # Computing the ROC AUC score\n",
    "    print(\"ROC AUC Score: {:.3f}\\n\".format(roc_auc_score(y_val, y_pred_proba, multi_class='ovr')))\n",
    "\n",
    "    # Computing the precision, recall & f1 score\n",
    "    precision = precision_score(y_val, y_pred, average='weighted')\n",
    "    recall = recall_score(y_val, y_pred, average='weighted')\n",
    "    f1 = f1_score(y_val, y_pred, average='weighted')\n",
    "\n",
    "    print(\"Precision: {:.3f}\".format(precision))\n",
    "    print(\"Recall: {:.3f}\".format(recall))\n",
    "    print(\"F1 Score: {:.3f}\".format(f1))\n",
    "\n",
    "    print(\"-------------------------\")"
   ]
  },
  {
   "cell_type": "markdown",
   "metadata": {
    "id": "HClQQWqIq6Nh"
   },
   "source": [
    "### Decision Tree"
   ]
  },
  {
   "cell_type": "code",
   "execution_count": 20,
   "metadata": {
    "colab": {
     "base_uri": "https://localhost:8080/"
    },
    "id": "sW7XKfruq8YE",
    "outputId": "6965690d-9528-478c-96fe-d821239f096b"
   },
   "outputs": [
    {
     "name": "stdout",
     "output_type": "stream",
     "text": [
      "-------------------------\n",
      "Train Accuracy: 1.000\n",
      "Test Accuracy: 0.833\n",
      "\n",
      "ROC AUC Score: 0.893\n",
      "\n",
      "Precision: 0.833\n",
      "Recall: 0.833\n",
      "F1 Score: 0.833\n",
      "-------------------------\n"
     ]
    }
   ],
   "source": [
    "dt = DecisionTreeClassifier()\n",
    "\n",
    "y_pred_dt, y_pred_proba_dt = model_train(dt)\n",
    "\n",
    "model_eval(dt, y_pred_dt, y_pred_proba_dt)"
   ]
  },
  {
   "cell_type": "code",
   "execution_count": 21,
   "metadata": {
    "colab": {
     "base_uri": "https://localhost:8080/"
    },
    "id": "PS5xUEgdrPL1",
    "outputId": "e79b510c-96f3-475f-b29d-5a6c3e51aaa7"
   },
   "outputs": [
    {
     "name": "stdout",
     "output_type": "stream",
     "text": [
      "-------------------------\n",
      "Train Accuracy: 1.000\n",
      "Test Accuracy: 0.939\n",
      "\n",
      "ROC AUC Score: 0.998\n",
      "\n",
      "Precision: 0.941\n",
      "Recall: 0.939\n",
      "F1 Score: 0.939\n",
      "-------------------------\n"
     ]
    }
   ],
   "source": [
    "rf = RandomForestClassifier()\n",
    "\n",
    "y_pred_rf, y_pred_proba_rf = model_train(rf)\n",
    "\n",
    "model_eval(rf, y_pred_rf, y_pred_proba_rf)\n"
   ]
  },
  {
   "cell_type": "markdown",
   "metadata": {},
   "source": [
    "### K nearest neighbours"
   ]
  },
  {
   "cell_type": "code",
   "execution_count": 23,
   "metadata": {},
   "outputs": [
    {
     "name": "stdout",
     "output_type": "stream",
     "text": [
      "-------------------------\n",
      "Train Accuracy: 0.956\n",
      "Test Accuracy: 0.935\n",
      "\n",
      "ROC AUC Score: 0.988\n",
      "\n",
      "Precision: 0.940\n",
      "Recall: 0.935\n",
      "F1 Score: 0.935\n",
      "-------------------------\n"
     ]
    }
   ],
   "source": [
    "kn = KNeighborsClassifier()\n",
    "\n",
    "y_pred_kn, y_pred_proba_kn = model_train(kn)\n",
    "\n",
    "model_eval(kn, y_pred_kn, y_pred_proba_kn)                          "
   ]
  },
  {
   "cell_type": "markdown",
   "metadata": {
    "id": "2Z5jYtc6rkXa"
   },
   "source": [
    "# BOW"
   ]
  },
  {
   "cell_type": "code",
   "execution_count": 24,
   "metadata": {
    "id": "RLt-vA_vrmhL"
   },
   "outputs": [],
   "source": [
    "cv = CountVectorizer(max_features = 5000)\n",
    "\n",
    "X = cv.fit_transform(df['Article']).toarray()\n",
    "y = np.array(df['Category'].values)\n"
   ]
  },
  {
   "cell_type": "code",
   "execution_count": 25,
   "metadata": {
    "id": "uDtJpqJ6r1wI"
   },
   "outputs": [],
   "source": [
    "X_train, X_val, y_train, y_val = train_test_split(X, y, test_size = 0.25, shuffle=True, stratify=y)"
   ]
  },
  {
   "cell_type": "markdown",
   "metadata": {
    "id": "s8Glj2q-r6E0"
   },
   "source": [
    "### Multinomial NB"
   ]
  },
  {
   "cell_type": "code",
   "execution_count": 26,
   "metadata": {
    "colab": {
     "base_uri": "https://localhost:8080/",
     "height": 80
    },
    "id": "Xv9wsMNrr42X",
    "outputId": "c0d87f3b-57c6-43d9-ebea-6991ffa7b6cc"
   },
   "outputs": [
    {
     "data": {
      "text/html": [
       "<style>#sk-container-id-2 {color: black;}#sk-container-id-2 pre{padding: 0;}#sk-container-id-2 div.sk-toggleable {background-color: white;}#sk-container-id-2 label.sk-toggleable__label {cursor: pointer;display: block;width: 100%;margin-bottom: 0;padding: 0.3em;box-sizing: border-box;text-align: center;}#sk-container-id-2 label.sk-toggleable__label-arrow:before {content: \"▸\";float: left;margin-right: 0.25em;color: #696969;}#sk-container-id-2 label.sk-toggleable__label-arrow:hover:before {color: black;}#sk-container-id-2 div.sk-estimator:hover label.sk-toggleable__label-arrow:before {color: black;}#sk-container-id-2 div.sk-toggleable__content {max-height: 0;max-width: 0;overflow: hidden;text-align: left;background-color: #f0f8ff;}#sk-container-id-2 div.sk-toggleable__content pre {margin: 0.2em;color: black;border-radius: 0.25em;background-color: #f0f8ff;}#sk-container-id-2 input.sk-toggleable__control:checked~div.sk-toggleable__content {max-height: 200px;max-width: 100%;overflow: auto;}#sk-container-id-2 input.sk-toggleable__control:checked~label.sk-toggleable__label-arrow:before {content: \"▾\";}#sk-container-id-2 div.sk-estimator input.sk-toggleable__control:checked~label.sk-toggleable__label {background-color: #d4ebff;}#sk-container-id-2 div.sk-label input.sk-toggleable__control:checked~label.sk-toggleable__label {background-color: #d4ebff;}#sk-container-id-2 input.sk-hidden--visually {border: 0;clip: rect(1px 1px 1px 1px);clip: rect(1px, 1px, 1px, 1px);height: 1px;margin: -1px;overflow: hidden;padding: 0;position: absolute;width: 1px;}#sk-container-id-2 div.sk-estimator {font-family: monospace;background-color: #f0f8ff;border: 1px dotted black;border-radius: 0.25em;box-sizing: border-box;margin-bottom: 0.5em;}#sk-container-id-2 div.sk-estimator:hover {background-color: #d4ebff;}#sk-container-id-2 div.sk-parallel-item::after {content: \"\";width: 100%;border-bottom: 1px solid gray;flex-grow: 1;}#sk-container-id-2 div.sk-label:hover label.sk-toggleable__label {background-color: #d4ebff;}#sk-container-id-2 div.sk-serial::before {content: \"\";position: absolute;border-left: 1px solid gray;box-sizing: border-box;top: 0;bottom: 0;left: 50%;z-index: 0;}#sk-container-id-2 div.sk-serial {display: flex;flex-direction: column;align-items: center;background-color: white;padding-right: 0.2em;padding-left: 0.2em;position: relative;}#sk-container-id-2 div.sk-item {position: relative;z-index: 1;}#sk-container-id-2 div.sk-parallel {display: flex;align-items: stretch;justify-content: center;background-color: white;position: relative;}#sk-container-id-2 div.sk-item::before, #sk-container-id-2 div.sk-parallel-item::before {content: \"\";position: absolute;border-left: 1px solid gray;box-sizing: border-box;top: 0;bottom: 0;left: 50%;z-index: -1;}#sk-container-id-2 div.sk-parallel-item {display: flex;flex-direction: column;z-index: 1;position: relative;background-color: white;}#sk-container-id-2 div.sk-parallel-item:first-child::after {align-self: flex-end;width: 50%;}#sk-container-id-2 div.sk-parallel-item:last-child::after {align-self: flex-start;width: 50%;}#sk-container-id-2 div.sk-parallel-item:only-child::after {width: 0;}#sk-container-id-2 div.sk-dashed-wrapped {border: 1px dashed gray;margin: 0 0.4em 0.5em 0.4em;box-sizing: border-box;padding-bottom: 0.4em;background-color: white;}#sk-container-id-2 div.sk-label label {font-family: monospace;font-weight: bold;display: inline-block;line-height: 1.2em;}#sk-container-id-2 div.sk-label-container {text-align: center;}#sk-container-id-2 div.sk-container {/* jupyter's `normalize.less` sets `[hidden] { display: none; }` but bootstrap.min.css set `[hidden] { display: none !important; }` so we also need the `!important` here to be able to override the default hidden behavior on the sphinx rendered scikit-learn.org. See: https://github.com/scikit-learn/scikit-learn/issues/21755 */display: inline-block !important;position: relative;}#sk-container-id-2 div.sk-text-repr-fallback {display: none;}</style><div id=\"sk-container-id-2\" class=\"sk-top-container\"><div class=\"sk-text-repr-fallback\"><pre>MultinomialNB()</pre><b>In a Jupyter environment, please rerun this cell to show the HTML representation or trust the notebook. <br />On GitHub, the HTML representation is unable to render, please try loading this page with nbviewer.org.</b></div><div class=\"sk-container\" hidden><div class=\"sk-item\"><div class=\"sk-estimator sk-toggleable\"><input class=\"sk-toggleable__control sk-hidden--visually\" id=\"sk-estimator-id-2\" type=\"checkbox\" checked><label for=\"sk-estimator-id-2\" class=\"sk-toggleable__label sk-toggleable__label-arrow\">MultinomialNB</label><div class=\"sk-toggleable__content\"><pre>MultinomialNB()</pre></div></div></div></div></div>"
      ],
      "text/plain": [
       "MultinomialNB()"
      ]
     },
     "execution_count": 26,
     "metadata": {},
     "output_type": "execute_result"
    }
   ],
   "source": [
    "nb = MultinomialNB()\n",
    "\n",
    "nb.fit(X_train, y_train)"
   ]
  },
  {
   "cell_type": "code",
   "execution_count": 27,
   "metadata": {
    "colab": {
     "base_uri": "https://localhost:8080/"
    },
    "id": "g7UoZ90zr99C",
    "outputId": "13112a9a-498f-4460-f210-d065cde77892"
   },
   "outputs": [
    {
     "name": "stdout",
     "output_type": "stream",
     "text": [
      "Train accuracy:  0.9916067146282974\n",
      "Test Accuracy:  0.9730700179533214\n"
     ]
    }
   ],
   "source": [
    "nb_train = accuracy_score(y_train, nb.predict(X_train))\n",
    "nb_test = accuracy_score(y_val, nb.predict(X_val))\n",
    "\n",
    "print(\"Train accuracy: \", nb_train)\n",
    "print(\"Test Accuracy: \", nb_test)"
   ]
  },
  {
   "cell_type": "code",
   "execution_count": 28,
   "metadata": {
    "colab": {
     "base_uri": "https://localhost:8080/"
    },
    "id": "EOxvmScUsIEQ",
    "outputId": "eede0776-3646-4234-ec14-207ae45240c0"
   },
   "outputs": [
    {
     "name": "stdout",
     "output_type": "stream",
     "text": [
      "-------------------------\n",
      "Train Accuracy: 1.000\n",
      "Test Accuracy: 0.804\n",
      "\n",
      "ROC AUC Score: 0.876\n",
      "\n",
      "Precision: 0.809\n",
      "Recall: 0.804\n",
      "F1 Score: 0.804\n",
      "-------------------------\n"
     ]
    }
   ],
   "source": [
    "dt = DecisionTreeClassifier()\n",
    "\n",
    "y_pred_dt, y_pred_proba_dt = model_train(dt)\n",
    "\n",
    "model_eval(dt, y_pred_dt, y_pred_proba_dt)"
   ]
  },
  {
   "cell_type": "code",
   "execution_count": 29,
   "metadata": {
    "colab": {
     "base_uri": "https://localhost:8080/"
    },
    "id": "t2QD0-KgsM2n",
    "outputId": "0360f01b-2d32-4ee9-bc34-458eb154ccfd"
   },
   "outputs": [
    {
     "name": "stdout",
     "output_type": "stream",
     "text": [
      "-------------------------\n",
      "Train Accuracy: 1.000\n",
      "Test Accuracy: 0.961\n",
      "\n",
      "ROC AUC Score: 0.998\n",
      "\n",
      "Precision: 0.961\n",
      "Recall: 0.961\n",
      "F1 Score: 0.961\n",
      "-------------------------\n"
     ]
    }
   ],
   "source": [
    "# Random Forest\n",
    "\n",
    "rf = RandomForestClassifier()\n",
    "\n",
    "y_pred_rf, y_pred_proba_rf = model_train(rf)\n",
    "\n",
    "model_eval(rf, y_pred_rf, y_pred_proba_rf)"
   ]
  },
  {
   "cell_type": "code",
   "execution_count": null,
   "metadata": {},
   "outputs": [],
   "source": []
  },
  {
   "cell_type": "code",
   "execution_count": null,
   "metadata": {},
   "outputs": [],
   "source": []
  },
  {
   "cell_type": "code",
   "execution_count": null,
   "metadata": {},
   "outputs": [],
   "source": []
  },
  {
   "cell_type": "code",
   "execution_count": null,
   "metadata": {},
   "outputs": [],
   "source": []
  },
  {
   "cell_type": "code",
   "execution_count": null,
   "metadata": {},
   "outputs": [],
   "source": []
  },
  {
   "cell_type": "code",
   "execution_count": 30,
   "metadata": {
    "id": "suqkOGS-yR6n"
   },
   "outputs": [
    {
     "name": "stdout",
     "output_type": "stream",
     "text": [
      "-------------------------\n",
      "Train Accuracy: 0.839\n",
      "Test Accuracy: 0.747\n",
      "\n",
      "ROC AUC Score: 0.927\n",
      "\n",
      "Precision: 0.761\n",
      "Recall: 0.747\n",
      "F1 Score: 0.743\n",
      "-------------------------\n"
     ]
    }
   ],
   "source": [
    "# KNeighbors Classifier\n",
    "kn = KNeighborsClassifier()\n",
    "\n",
    "y_pred_kn, y_pred_proba_kn = model_train(kn)\n",
    "\n",
    "model_eval(kn, y_pred_kn, y_pred_proba_kn) "
   ]
  },
  {
   "cell_type": "markdown",
   "metadata": {
    "id": "u_P69-lbsiVo"
   },
   "source": [
    "# LSTM"
   ]
  },
  {
   "cell_type": "code",
   "execution_count": 86,
   "metadata": {
    "colab": {
     "base_uri": "https://localhost:8080/",
     "height": 206
    },
    "id": "1dYBqdDgsj3M",
    "outputId": "636c0e30-ab1a-4710-f145-9ccc660af473"
   },
   "outputs": [
    {
     "data": {
      "text/html": [
       "<div>\n",
       "<style scoped>\n",
       "    .dataframe tbody tr th:only-of-type {\n",
       "        vertical-align: middle;\n",
       "    }\n",
       "\n",
       "    .dataframe tbody tr th {\n",
       "        vertical-align: top;\n",
       "    }\n",
       "\n",
       "    .dataframe thead th {\n",
       "        text-align: right;\n",
       "    }\n",
       "</style>\n",
       "<table border=\"1\" class=\"dataframe\">\n",
       "  <thead>\n",
       "    <tr style=\"text-align: right;\">\n",
       "      <th></th>\n",
       "      <th>Category</th>\n",
       "      <th>Article</th>\n",
       "    </tr>\n",
       "  </thead>\n",
       "  <tbody>\n",
       "    <tr>\n",
       "      <th>0</th>\n",
       "      <td>Technology</td>\n",
       "      <td>tv future in the hands of viewers with home th...</td>\n",
       "    </tr>\n",
       "    <tr>\n",
       "      <th>1</th>\n",
       "      <td>Business</td>\n",
       "      <td>worldcom boss  left books alone  former worldc...</td>\n",
       "    </tr>\n",
       "    <tr>\n",
       "      <th>2</th>\n",
       "      <td>Sports</td>\n",
       "      <td>tigers wary of farrell  gamble  leicester say ...</td>\n",
       "    </tr>\n",
       "    <tr>\n",
       "      <th>3</th>\n",
       "      <td>Sports</td>\n",
       "      <td>yeading face newcastle in fa cup premiership s...</td>\n",
       "    </tr>\n",
       "    <tr>\n",
       "      <th>4</th>\n",
       "      <td>Entertainment</td>\n",
       "      <td>ocean s twelve raids box office ocean s twelve...</td>\n",
       "    </tr>\n",
       "  </tbody>\n",
       "</table>\n",
       "</div>"
      ],
      "text/plain": [
       "        Category                                            Article\n",
       "0     Technology  tv future in the hands of viewers with home th...\n",
       "1       Business  worldcom boss  left books alone  former worldc...\n",
       "2         Sports  tigers wary of farrell  gamble  leicester say ...\n",
       "3         Sports  yeading face newcastle in fa cup premiership s...\n",
       "4  Entertainment  ocean s twelve raids box office ocean s twelve..."
      ]
     },
     "execution_count": 86,
     "metadata": {},
     "output_type": "execute_result"
    }
   ],
   "source": [
    "import numpy as np\n",
    "import pandas as pd\n",
    "\n",
    "import tensorflow as tf\n",
    "from tensorflow.keras.models import Sequential\n",
    "from tensorflow.keras.layers import LSTM, Dense, Embedding, GRU, SimpleRNN\n",
    "from tensorflow.keras.preprocessing.text import Tokenizer\n",
    "from tensorflow.keras.preprocessing.sequence import pad_sequences\n",
    "from sklearn.model_selection import train_test_split\n",
    "from sklearn.preprocessing import LabelEncoder\n",
    "df = pd.read_csv('newz-data.csv')\n",
    "df.head()"
   ]
  },
  {
   "cell_type": "code",
   "execution_count": 87,
   "metadata": {
    "id": "s9utugRoste0"
   },
   "outputs": [],
   "source": [
    "max_features = 5000\n",
    "maxlen = 100\n",
    "embedding_size = 100\n",
    "batch_size = 500\n",
    "epochs = 15"
   ]
  },
  {
   "cell_type": "markdown",
   "metadata": {
    "id": "fT6GzvOauCr_"
   },
   "source": [
    "1. no way you're idiot\n",
    "2. no way, you're idiot"
   ]
  },
  {
   "cell_type": "code",
   "execution_count": 88,
   "metadata": {
    "id": "egIeiqwettbV"
   },
   "outputs": [],
   "source": [
    "def preprocess_text(df, text_column):\n",
    "  df[text_column] = df[text_column].apply(lambda x: x.lower())\n",
    "  return df\n",
    "\n",
    "df = preprocess_text(df, 'Article')"
   ]
  },
  {
   "cell_type": "code",
   "execution_count": 89,
   "metadata": {
    "id": "QwVaaIZLucS4"
   },
   "outputs": [],
   "source": [
    "tokenizer = Tokenizer(num_words = max_features)\n",
    "tokenizer.fit_on_texts(df['Article'])\n",
    "\n",
    "sequences = tokenizer.texts_to_sequences(df['Article'])\n",
    "data = pad_sequences(sequences, maxlen = maxlen)"
   ]
  },
  {
   "cell_type": "code",
   "execution_count": 90,
   "metadata": {
    "id": "BYQEGj9EuyeW"
   },
   "outputs": [],
   "source": [
    "le = LabelEncoder()\n",
    "\n",
    "labels = le.fit_transform(df['Category'])\n",
    "labels = tf.keras.utils.to_categorical(labels)"
   ]
  },
  {
   "cell_type": "code",
   "execution_count": 91,
   "metadata": {
    "colab": {
     "base_uri": "https://localhost:8080/"
    },
    "id": "Y9JTZ5h5u5K8",
    "outputId": "6733a74d-5758-44bc-8fd1-be2755973b10"
   },
   "outputs": [
    {
     "data": {
      "text/plain": [
       "array([[0., 0., 0., 0., 1.],\n",
       "       [1., 0., 0., 0., 0.],\n",
       "       [0., 0., 0., 1., 0.],\n",
       "       ...,\n",
       "       [0., 1., 0., 0., 0.],\n",
       "       [0., 0., 1., 0., 0.],\n",
       "       [0., 0., 0., 1., 0.]], dtype=float32)"
      ]
     },
     "execution_count": 91,
     "metadata": {},
     "output_type": "execute_result"
    }
   ],
   "source": [
    "labels"
   ]
  },
  {
   "cell_type": "code",
   "execution_count": 92,
   "metadata": {
    "id": "vDi5bjB5xJlJ"
   },
   "outputs": [],
   "source": [
    "X_train, X_test, y_train, y_test = train_test_split(data, labels, test_size = 0.2, random_state=42)\n"
   ]
  },
  {
   "cell_type": "code",
   "execution_count": 93,
   "metadata": {
    "id": "uFj2WwOpu7IH"
   },
   "outputs": [],
   "source": [
    "def load_glove_embeddings(embedding_path, embedding_dim, tokenizer, max_features):\n",
    "\n",
    "  embeddings_index = {}\n",
    "\n",
    "  with open(embedding_path, 'r', encoding='utf8') as f:\n",
    "    for line in f:\n",
    "      values = line.split()\n",
    "      word = values[0]\n",
    "      coefs = np.asarray(values[1:], dtype='float32')\n",
    "      embeddings_index[word] = coefs\n",
    "\n",
    "\n",
    "  limited_word_index = {word:index for word, index, in tokenizer.word_index.items() if index < max_features}\n",
    "\n",
    "  embedding_matrix =  np.zeros((min(max_features + 1, len(limited_word_index) + 1), embedding_dim))\n",
    "\n",
    "\n",
    "  for word, i in limited_word_index.items():\n",
    "    if i > max_features:\n",
    "      continue\n",
    "\n",
    "    embedding_vector = embeddings_index.get(word)\n",
    "    if embedding_vector is not None:\n",
    "      embedding_matrix[i] = embedding_vector\n",
    "\n",
    "  return embedding_matrix"
   ]
  },
  {
   "cell_type": "code",
   "execution_count": 94,
   "metadata": {
    "id": "qYv-kGxHwYNi"
   },
   "outputs": [],
   "source": [
    "embedding_matrix = load_glove_embeddings('glove.6B.100d.txt', embedding_size, tokenizer, max_features)\n"
   ]
  },
  {
   "cell_type": "code",
   "execution_count": 95,
   "metadata": {
    "id": "hMpLJwkawchf"
   },
   "outputs": [
    {
     "name": "stderr",
     "output_type": "stream",
     "text": [
      "2024-12-28 09:29:07.831565: I tensorflow/core/common_runtime/executor.cc:1197] [/device:CPU:0] (DEBUG INFO) Executor start aborting (this does not indicate an error and you can ignore this message): INVALID_ARGUMENT: You must feed a value for placeholder tensor 'gradients/split_2_grad/concat/split_2/split_dim' with dtype int32\n",
      "\t [[{{node gradients/split_2_grad/concat/split_2/split_dim}}]]\n",
      "2024-12-28 09:29:07.832845: I tensorflow/core/common_runtime/executor.cc:1197] [/device:CPU:0] (DEBUG INFO) Executor start aborting (this does not indicate an error and you can ignore this message): INVALID_ARGUMENT: You must feed a value for placeholder tensor 'gradients/split_grad/concat/split/split_dim' with dtype int32\n",
      "\t [[{{node gradients/split_grad/concat/split/split_dim}}]]\n",
      "2024-12-28 09:29:07.833373: I tensorflow/core/common_runtime/executor.cc:1197] [/device:CPU:0] (DEBUG INFO) Executor start aborting (this does not indicate an error and you can ignore this message): INVALID_ARGUMENT: You must feed a value for placeholder tensor 'gradients/split_1_grad/concat/split_1/split_dim' with dtype int32\n",
      "\t [[{{node gradients/split_1_grad/concat/split_1/split_dim}}]]\n"
     ]
    }
   ],
   "source": [
    "model = Sequential([\n",
    "    Embedding(max_features, embedding_size, weights=[embedding_matrix],\n",
    "              input_length=maxlen, trainable=False),\n",
    "    LSTM(100),\n",
    "    Dense(len(np.unique(df['Category'])), activation='softmax')\n",
    "\n",
    "])"
   ]
  },
  {
   "cell_type": "code",
   "execution_count": 47,
   "metadata": {
    "id": "j5iGHI9Swp5H"
   },
   "outputs": [],
   "source": [
    "model.compile(loss='categorical_crossentropy', optimizer='adam', metrics=['accuracy'])"
   ]
  },
  {
   "cell_type": "code",
   "execution_count": 48,
   "metadata": {
    "colab": {
     "base_uri": "https://localhost:8080/"
    },
    "id": "fBImtxkWxEGm",
    "outputId": "44b94283-d8da-47f8-b3e9-77bfaef4f35b"
   },
   "outputs": [
    {
     "name": "stdout",
     "output_type": "stream",
     "text": [
      "Epoch 1/10\n"
     ]
    },
    {
     "name": "stderr",
     "output_type": "stream",
     "text": [
      "2024-12-28 08:10:04.710381: I tensorflow/core/common_runtime/executor.cc:1197] [/device:CPU:0] (DEBUG INFO) Executor start aborting (this does not indicate an error and you can ignore this message): INVALID_ARGUMENT: You must feed a value for placeholder tensor 'gradients/split_2_grad/concat/split_2/split_dim' with dtype int32\n",
      "\t [[{{node gradients/split_2_grad/concat/split_2/split_dim}}]]\n",
      "2024-12-28 08:10:04.711443: I tensorflow/core/common_runtime/executor.cc:1197] [/device:CPU:0] (DEBUG INFO) Executor start aborting (this does not indicate an error and you can ignore this message): INVALID_ARGUMENT: You must feed a value for placeholder tensor 'gradients/split_grad/concat/split/split_dim' with dtype int32\n",
      "\t [[{{node gradients/split_grad/concat/split/split_dim}}]]\n",
      "2024-12-28 08:10:04.711943: I tensorflow/core/common_runtime/executor.cc:1197] [/device:CPU:0] (DEBUG INFO) Executor start aborting (this does not indicate an error and you can ignore this message): INVALID_ARGUMENT: You must feed a value for placeholder tensor 'gradients/split_1_grad/concat/split_1/split_dim' with dtype int32\n",
      "\t [[{{node gradients/split_1_grad/concat/split_1/split_dim}}]]\n",
      "2024-12-28 08:10:04.978447: I tensorflow/core/common_runtime/executor.cc:1197] [/device:CPU:0] (DEBUG INFO) Executor start aborting (this does not indicate an error and you can ignore this message): INVALID_ARGUMENT: You must feed a value for placeholder tensor 'gradients/split_2_grad/concat/split_2/split_dim' with dtype int32\n",
      "\t [[{{node gradients/split_2_grad/concat/split_2/split_dim}}]]\n",
      "2024-12-28 08:10:04.979352: I tensorflow/core/common_runtime/executor.cc:1197] [/device:CPU:0] (DEBUG INFO) Executor start aborting (this does not indicate an error and you can ignore this message): INVALID_ARGUMENT: You must feed a value for placeholder tensor 'gradients/split_grad/concat/split/split_dim' with dtype int32\n",
      "\t [[{{node gradients/split_grad/concat/split/split_dim}}]]\n",
      "2024-12-28 08:10:04.979939: I tensorflow/core/common_runtime/executor.cc:1197] [/device:CPU:0] (DEBUG INFO) Executor start aborting (this does not indicate an error and you can ignore this message): INVALID_ARGUMENT: You must feed a value for placeholder tensor 'gradients/split_1_grad/concat/split_1/split_dim' with dtype int32\n",
      "\t [[{{node gradients/split_1_grad/concat/split_1/split_dim}}]]\n",
      "2024-12-28 08:10:05.156082: I tensorflow/core/grappler/optimizers/custom_graph_optimizer_registry.cc:114] Plugin optimizer for device_type GPU is enabled.\n",
      "2024-12-28 08:10:05.230421: E tensorflow/core/grappler/optimizers/meta_optimizer.cc:954] model_pruner failed: INVALID_ARGUMENT: Graph does not contain terminal node AssignAddVariableOp_10.\n",
      "2024-12-28 08:10:05.540769: I tensorflow/core/grappler/optimizers/custom_graph_optimizer_registry.cc:114] Plugin optimizer for device_type GPU is enabled.\n",
      "2024-12-28 08:10:07.266209: I tensorflow/core/grappler/optimizers/custom_graph_optimizer_registry.cc:114] Plugin optimizer for device_type GPU is enabled.\n",
      "2024-12-28 08:10:09.027256: I tensorflow/core/common_runtime/executor.cc:1197] [/device:CPU:0] (DEBUG INFO) Executor start aborting (this does not indicate an error and you can ignore this message): INVALID_ARGUMENT: You must feed a value for placeholder tensor 'gradients/split_2_grad/concat/split_2/split_dim' with dtype int32\n",
      "\t [[{{node gradients/split_2_grad/concat/split_2/split_dim}}]]\n",
      "2024-12-28 08:10:09.028243: I tensorflow/core/common_runtime/executor.cc:1197] [/device:CPU:0] (DEBUG INFO) Executor start aborting (this does not indicate an error and you can ignore this message): INVALID_ARGUMENT: You must feed a value for placeholder tensor 'gradients/split_grad/concat/split/split_dim' with dtype int32\n",
      "\t [[{{node gradients/split_grad/concat/split/split_dim}}]]\n",
      "2024-12-28 08:10:09.028863: I tensorflow/core/common_runtime/executor.cc:1197] [/device:CPU:0] (DEBUG INFO) Executor start aborting (this does not indicate an error and you can ignore this message): INVALID_ARGUMENT: You must feed a value for placeholder tensor 'gradients/split_1_grad/concat/split_1/split_dim' with dtype int32\n",
      "\t [[{{node gradients/split_1_grad/concat/split_1/split_dim}}]]\n",
      "2024-12-28 08:10:09.065004: I tensorflow/core/grappler/optimizers/custom_graph_optimizer_registry.cc:114] Plugin optimizer for device_type GPU is enabled.\n",
      "2024-12-28 08:10:09.124642: I tensorflow/core/grappler/optimizers/custom_graph_optimizer_registry.cc:114] Plugin optimizer for device_type GPU is enabled.\n"
     ]
    },
    {
     "name": "stdout",
     "output_type": "stream",
     "text": [
      "4/4 - 5s - loss: 1.6197 - accuracy: 0.2404 - val_loss: 1.5955 - val_accuracy: 0.3079 - 5s/epoch - 1s/step\n",
      "Epoch 2/10\n",
      "4/4 - 0s - loss: 1.5703 - accuracy: 0.3258 - val_loss: 1.5563 - val_accuracy: 0.3685 - 245ms/epoch - 61ms/step\n",
      "Epoch 3/10\n",
      "4/4 - 0s - loss: 1.5250 - accuracy: 0.4022 - val_loss: 1.5012 - val_accuracy: 0.4247 - 203ms/epoch - 51ms/step\n",
      "Epoch 4/10\n",
      "4/4 - 0s - loss: 1.4613 - accuracy: 0.4927 - val_loss: 1.4024 - val_accuracy: 0.4764 - 210ms/epoch - 52ms/step\n",
      "Epoch 5/10\n",
      "4/4 - 0s - loss: 1.3122 - accuracy: 0.5315 - val_loss: 1.2102 - val_accuracy: 0.4764 - 207ms/epoch - 52ms/step\n",
      "Epoch 6/10\n",
      "4/4 - 0s - loss: 1.1773 - accuracy: 0.4708 - val_loss: 1.2081 - val_accuracy: 0.4876 - 204ms/epoch - 51ms/step\n",
      "Epoch 7/10\n",
      "4/4 - 0s - loss: 1.1158 - accuracy: 0.5820 - val_loss: 1.0892 - val_accuracy: 0.6022 - 205ms/epoch - 51ms/step\n",
      "Epoch 8/10\n",
      "4/4 - 0s - loss: 1.0123 - accuracy: 0.6556 - val_loss: 0.9933 - val_accuracy: 0.6360 - 203ms/epoch - 51ms/step\n",
      "Epoch 9/10\n",
      "4/4 - 0s - loss: 0.9145 - accuracy: 0.6989 - val_loss: 0.8458 - val_accuracy: 0.7258 - 203ms/epoch - 51ms/step\n",
      "Epoch 10/10\n",
      "4/4 - 0s - loss: 0.7894 - accuracy: 0.7539 - val_loss: 0.7820 - val_accuracy: 0.7056 - 205ms/epoch - 51ms/step\n"
     ]
    },
    {
     "data": {
      "text/plain": [
       "<keras.callbacks.History at 0x18289ad60>"
      ]
     },
     "execution_count": 48,
     "metadata": {},
     "output_type": "execute_result"
    }
   ],
   "source": [
    "from tensorflow.keras.callbacks import EarlyStopping\n",
    "\n",
    "early_stopping = EarlyStopping(monitor='val_loss', patience=5)\n",
    "\n",
    "model.fit(X_train, y_train, batch_size=batch_size, epochs = epochs, validation_data=(X_test, y_test),\n",
    "          verbose=2, callbacks=[early_stopping])"
   ]
  },
  {
   "cell_type": "markdown",
   "metadata": {
    "id": "O0L_P_52xQfR"
   },
   "source": [
    "### GRU"
   ]
  },
  {
   "cell_type": "code",
   "execution_count": 49,
   "metadata": {
    "colab": {
     "base_uri": "https://localhost:8080/"
    },
    "id": "YpqHTjRzxM3j",
    "outputId": "1d91d946-24df-4589-ef5f-49758765458b"
   },
   "outputs": [
    {
     "name": "stdout",
     "output_type": "stream",
     "text": [
      "Epoch 1/10\n"
     ]
    },
    {
     "name": "stderr",
     "output_type": "stream",
     "text": [
      "2024-12-28 08:10:11.363591: I tensorflow/core/common_runtime/executor.cc:1197] [/device:CPU:0] (DEBUG INFO) Executor start aborting (this does not indicate an error and you can ignore this message): INVALID_ARGUMENT: You must feed a value for placeholder tensor 'gradients/split_2_grad/concat/split_2/split_dim' with dtype int32\n",
      "\t [[{{node gradients/split_2_grad/concat/split_2/split_dim}}]]\n",
      "2024-12-28 08:10:11.364327: I tensorflow/core/common_runtime/executor.cc:1197] [/device:CPU:0] (DEBUG INFO) Executor start aborting (this does not indicate an error and you can ignore this message): INVALID_ARGUMENT: You must feed a value for placeholder tensor 'gradients/split_grad/concat/split/split_dim' with dtype int32\n",
      "\t [[{{node gradients/split_grad/concat/split/split_dim}}]]\n",
      "2024-12-28 08:10:11.364778: I tensorflow/core/common_runtime/executor.cc:1197] [/device:CPU:0] (DEBUG INFO) Executor start aborting (this does not indicate an error and you can ignore this message): INVALID_ARGUMENT: You must feed a value for placeholder tensor 'gradients/split_1_grad/concat/split_1/split_dim' with dtype int32\n",
      "\t [[{{node gradients/split_1_grad/concat/split_1/split_dim}}]]\n",
      "2024-12-28 08:10:11.471094: I tensorflow/core/common_runtime/executor.cc:1197] [/device:CPU:0] (DEBUG INFO) Executor start aborting (this does not indicate an error and you can ignore this message): INVALID_ARGUMENT: You must feed a value for placeholder tensor 'gradients/split_2_grad/concat/split_2/split_dim' with dtype int32\n",
      "\t [[{{node gradients/split_2_grad/concat/split_2/split_dim}}]]\n",
      "2024-12-28 08:10:11.471616: I tensorflow/core/common_runtime/executor.cc:1197] [/device:CPU:0] (DEBUG INFO) Executor start aborting (this does not indicate an error and you can ignore this message): INVALID_ARGUMENT: You must feed a value for placeholder tensor 'gradients/split_grad/concat/split/split_dim' with dtype int32\n",
      "\t [[{{node gradients/split_grad/concat/split/split_dim}}]]\n",
      "2024-12-28 08:10:11.472086: I tensorflow/core/common_runtime/executor.cc:1197] [/device:CPU:0] (DEBUG INFO) Executor start aborting (this does not indicate an error and you can ignore this message): INVALID_ARGUMENT: You must feed a value for placeholder tensor 'gradients/split_1_grad/concat/split_1/split_dim' with dtype int32\n",
      "\t [[{{node gradients/split_1_grad/concat/split_1/split_dim}}]]\n",
      "2024-12-28 08:10:11.730491: I tensorflow/core/common_runtime/executor.cc:1197] [/device:CPU:0] (DEBUG INFO) Executor start aborting (this does not indicate an error and you can ignore this message): INVALID_ARGUMENT: You must feed a value for placeholder tensor 'gradients/split_2_grad/concat/split_2/split_dim' with dtype int32\n",
      "\t [[{{node gradients/split_2_grad/concat/split_2/split_dim}}]]\n",
      "2024-12-28 08:10:11.731331: I tensorflow/core/common_runtime/executor.cc:1197] [/device:CPU:0] (DEBUG INFO) Executor start aborting (this does not indicate an error and you can ignore this message): INVALID_ARGUMENT: You must feed a value for placeholder tensor 'gradients/split_grad/concat/split/split_dim' with dtype int32\n",
      "\t [[{{node gradients/split_grad/concat/split/split_dim}}]]\n",
      "2024-12-28 08:10:11.731889: I tensorflow/core/common_runtime/executor.cc:1197] [/device:CPU:0] (DEBUG INFO) Executor start aborting (this does not indicate an error and you can ignore this message): INVALID_ARGUMENT: You must feed a value for placeholder tensor 'gradients/split_1_grad/concat/split_1/split_dim' with dtype int32\n",
      "\t [[{{node gradients/split_1_grad/concat/split_1/split_dim}}]]\n",
      "2024-12-28 08:10:11.918684: I tensorflow/core/grappler/optimizers/custom_graph_optimizer_registry.cc:114] Plugin optimizer for device_type GPU is enabled.\n",
      "2024-12-28 08:10:11.970411: E tensorflow/core/grappler/optimizers/meta_optimizer.cc:954] model_pruner failed: INVALID_ARGUMENT: Graph does not contain terminal node AssignAddVariableOp_10.\n",
      "2024-12-28 08:10:12.041247: I tensorflow/core/grappler/optimizers/custom_graph_optimizer_registry.cc:114] Plugin optimizer for device_type GPU is enabled.\n",
      "2024-12-28 08:10:12.349359: I tensorflow/core/grappler/optimizers/custom_graph_optimizer_registry.cc:114] Plugin optimizer for device_type GPU is enabled.\n",
      "2024-12-28 08:10:13.891862: I tensorflow/core/common_runtime/executor.cc:1197] [/device:CPU:0] (DEBUG INFO) Executor start aborting (this does not indicate an error and you can ignore this message): INVALID_ARGUMENT: You must feed a value for placeholder tensor 'gradients/split_2_grad/concat/split_2/split_dim' with dtype int32\n",
      "\t [[{{node gradients/split_2_grad/concat/split_2/split_dim}}]]\n",
      "2024-12-28 08:10:13.892664: I tensorflow/core/common_runtime/executor.cc:1197] [/device:CPU:0] (DEBUG INFO) Executor start aborting (this does not indicate an error and you can ignore this message): INVALID_ARGUMENT: You must feed a value for placeholder tensor 'gradients/split_grad/concat/split/split_dim' with dtype int32\n",
      "\t [[{{node gradients/split_grad/concat/split/split_dim}}]]\n",
      "2024-12-28 08:10:13.893217: I tensorflow/core/common_runtime/executor.cc:1197] [/device:CPU:0] (DEBUG INFO) Executor start aborting (this does not indicate an error and you can ignore this message): INVALID_ARGUMENT: You must feed a value for placeholder tensor 'gradients/split_1_grad/concat/split_1/split_dim' with dtype int32\n",
      "\t [[{{node gradients/split_1_grad/concat/split_1/split_dim}}]]\n",
      "2024-12-28 08:10:13.925730: I tensorflow/core/grappler/optimizers/custom_graph_optimizer_registry.cc:114] Plugin optimizer for device_type GPU is enabled.\n",
      "2024-12-28 08:10:13.978946: I tensorflow/core/grappler/optimizers/custom_graph_optimizer_registry.cc:114] Plugin optimizer for device_type GPU is enabled.\n"
     ]
    },
    {
     "name": "stdout",
     "output_type": "stream",
     "text": [
      "4/4 - 3s - loss: 1.6211 - accuracy: 0.2494 - val_loss: 1.5592 - val_accuracy: 0.2899 - 3s/epoch - 693ms/step\n",
      "Epoch 2/10\n",
      "4/4 - 0s - loss: 1.5247 - accuracy: 0.3466 - val_loss: 1.4728 - val_accuracy: 0.3978 - 213ms/epoch - 53ms/step\n",
      "Epoch 3/10\n",
      "4/4 - 0s - loss: 1.4360 - accuracy: 0.4365 - val_loss: 1.4018 - val_accuracy: 0.4517 - 187ms/epoch - 47ms/step\n",
      "Epoch 4/10\n",
      "4/4 - 0s - loss: 1.3687 - accuracy: 0.5039 - val_loss: 1.3417 - val_accuracy: 0.4966 - 189ms/epoch - 47ms/step\n",
      "Epoch 5/10\n",
      "4/4 - 0s - loss: 1.2983 - accuracy: 0.5354 - val_loss: 1.2813 - val_accuracy: 0.5281 - 185ms/epoch - 46ms/step\n",
      "Epoch 6/10\n",
      "4/4 - 0s - loss: 1.2317 - accuracy: 0.5640 - val_loss: 1.2162 - val_accuracy: 0.5506 - 189ms/epoch - 47ms/step\n",
      "Epoch 7/10\n",
      "4/4 - 0s - loss: 1.1572 - accuracy: 0.6017 - val_loss: 1.1330 - val_accuracy: 0.5843 - 201ms/epoch - 50ms/step\n",
      "Epoch 8/10\n",
      "4/4 - 0s - loss: 1.0610 - accuracy: 0.6348 - val_loss: 1.0252 - val_accuracy: 0.6225 - 191ms/epoch - 48ms/step\n",
      "Epoch 9/10\n",
      "4/4 - 0s - loss: 0.9255 - accuracy: 0.6730 - val_loss: 0.9516 - val_accuracy: 0.6135 - 188ms/epoch - 47ms/step\n",
      "Epoch 10/10\n",
      "4/4 - 0s - loss: 0.8590 - accuracy: 0.6674 - val_loss: 0.8718 - val_accuracy: 0.6764 - 193ms/epoch - 48ms/step\n"
     ]
    },
    {
     "name": "stderr",
     "output_type": "stream",
     "text": [
      "2024-12-28 08:10:16.037781: I tensorflow/core/common_runtime/executor.cc:1197] [/device:CPU:0] (DEBUG INFO) Executor start aborting (this does not indicate an error and you can ignore this message): INVALID_ARGUMENT: You must feed a value for placeholder tensor 'gradients/split_2_grad/concat/split_2/split_dim' with dtype int32\n",
      "\t [[{{node gradients/split_2_grad/concat/split_2/split_dim}}]]\n",
      "2024-12-28 08:10:16.038677: I tensorflow/core/common_runtime/executor.cc:1197] [/device:CPU:0] (DEBUG INFO) Executor start aborting (this does not indicate an error and you can ignore this message): INVALID_ARGUMENT: You must feed a value for placeholder tensor 'gradients/split_grad/concat/split/split_dim' with dtype int32\n",
      "\t [[{{node gradients/split_grad/concat/split/split_dim}}]]\n",
      "2024-12-28 08:10:16.039179: I tensorflow/core/common_runtime/executor.cc:1197] [/device:CPU:0] (DEBUG INFO) Executor start aborting (this does not indicate an error and you can ignore this message): INVALID_ARGUMENT: You must feed a value for placeholder tensor 'gradients/split_1_grad/concat/split_1/split_dim' with dtype int32\n",
      "\t [[{{node gradients/split_1_grad/concat/split_1/split_dim}}]]\n",
      "2024-12-28 08:10:16.052212: I tensorflow/core/grappler/optimizers/custom_graph_optimizer_registry.cc:114] Plugin optimizer for device_type GPU is enabled.\n",
      "2024-12-28 08:10:16.095365: I tensorflow/core/grappler/optimizers/custom_graph_optimizer_registry.cc:114] Plugin optimizer for device_type GPU is enabled.\n"
     ]
    },
    {
     "name": "stdout",
     "output_type": "stream",
     "text": [
      "14/14 [==============================] - 0s 9ms/step\n",
      "              precision    recall  f1-score   support\n",
      "\n",
      "           0       0.63      0.75      0.69       101\n",
      "           1       0.73      0.53      0.61        81\n",
      "           2       0.57      0.58      0.57        83\n",
      "           3       0.74      0.92      0.82        98\n",
      "           4       0.72      0.54      0.62        82\n",
      "\n",
      "    accuracy                           0.68       445\n",
      "   macro avg       0.68      0.66      0.66       445\n",
      "weighted avg       0.68      0.68      0.67       445\n",
      "\n"
     ]
    }
   ],
   "source": [
    "## GRU\n",
    "\n",
    "\n",
    "# Model building\n",
    "model = Sequential([\n",
    "    Embedding(max_features, embedding_size, weights=[embedding_matrix], input_length=maxlen, trainable=False),\n",
    "    GRU(100),\n",
    "    Dense(len(np.unique(df['Category'])), activation='softmax')\n",
    "])\n",
    "\n",
    "model.compile(loss='categorical_crossentropy', optimizer='adam', metrics=['accuracy'])\n",
    "\n",
    "# Use EarlyStopping\n",
    "\n",
    "from tensorflow.keras.callbacks import EarlyStopping\n",
    "\n",
    "early_stopping = EarlyStopping(monitor='val_loss', patience=5)\n",
    "\n",
    "# Model training\n",
    "model.fit(X_train, y_train,\n",
    "batch_size=batch_size, epochs=epochs, validation_data=(X_test, y_test), verbose=2,\n",
    "callbacks=[early_stopping])\n",
    "\n",
    "# Evaluate\n",
    "\n",
    "from sklearn.metrics import classification_report\n",
    "\n",
    "y_pred = model.predict(X_test)\n",
    "y_pred = np.argmax(y_pred, axis=1)\n",
    "y_test_argmax = np.argmax(y_test, axis=1)\n",
    "\n",
    "print(classification_report(y_test_argmax, y_pred))\n"
   ]
  },
  {
   "cell_type": "markdown",
   "metadata": {
    "id": "6u0vJ0lWxblp"
   },
   "source": [
    "### SimpleRNN"
   ]
  },
  {
   "cell_type": "code",
   "execution_count": 50,
   "metadata": {
    "colab": {
     "base_uri": "https://localhost:8080/"
    },
    "id": "zyPnVWQwxcpU",
    "outputId": "17fe3ca5-66ea-4829-b4b4-344888dafb5c"
   },
   "outputs": [
    {
     "name": "stdout",
     "output_type": "stream",
     "text": [
      "Epoch 1/10\n"
     ]
    },
    {
     "name": "stderr",
     "output_type": "stream",
     "text": [
      "2024-12-28 08:10:17.045712: I tensorflow/core/grappler/optimizers/custom_graph_optimizer_registry.cc:114] Plugin optimizer for device_type GPU is enabled.\n",
      "2024-12-28 08:10:17.098741: E tensorflow/core/grappler/optimizers/meta_optimizer.cc:954] model_pruner failed: INVALID_ARGUMENT: Graph does not contain terminal node AssignAddVariableOp_10.\n",
      "2024-12-28 08:10:27.359959: I tensorflow/core/grappler/optimizers/custom_graph_optimizer_registry.cc:114] Plugin optimizer for device_type GPU is enabled.\n"
     ]
    },
    {
     "name": "stdout",
     "output_type": "stream",
     "text": [
      "4/4 - 11s - loss: 1.7063 - accuracy: 0.2506 - val_loss: 1.6212 - val_accuracy: 0.2764 - 11s/epoch - 3s/step\n",
      "Epoch 2/10\n",
      "4/4 - 10s - loss: 1.5587 - accuracy: 0.3360 - val_loss: 1.4966 - val_accuracy: 0.3528 - 10s/epoch - 2s/step\n",
      "Epoch 3/10\n",
      "4/4 - 10s - loss: 1.4004 - accuracy: 0.4163 - val_loss: 1.3876 - val_accuracy: 0.3955 - 10s/epoch - 2s/step\n",
      "Epoch 4/10\n",
      "4/4 - 10s - loss: 1.2552 - accuracy: 0.5034 - val_loss: 1.2663 - val_accuracy: 0.4494 - 10s/epoch - 2s/step\n",
      "Epoch 5/10\n",
      "4/4 - 10s - loss: 1.1101 - accuracy: 0.5607 - val_loss: 1.1626 - val_accuracy: 0.5079 - 10s/epoch - 2s/step\n",
      "Epoch 6/10\n",
      "4/4 - 10s - loss: 1.0698 - accuracy: 0.5652 - val_loss: 1.1205 - val_accuracy: 0.5236 - 10s/epoch - 2s/step\n",
      "Epoch 7/10\n",
      "4/4 - 10s - loss: 1.0037 - accuracy: 0.6034 - val_loss: 1.1058 - val_accuracy: 0.5416 - 10s/epoch - 2s/step\n",
      "Epoch 8/10\n",
      "4/4 - 10s - loss: 0.9643 - accuracy: 0.6326 - val_loss: 1.0804 - val_accuracy: 0.5326 - 10s/epoch - 2s/step\n",
      "Epoch 9/10\n",
      "4/4 - 10s - loss: 0.9187 - accuracy: 0.6449 - val_loss: 1.0106 - val_accuracy: 0.5910 - 10s/epoch - 3s/step\n",
      "Epoch 10/10\n",
      "4/4 - 10s - loss: 0.8845 - accuracy: 0.6719 - val_loss: 0.9850 - val_accuracy: 0.5933 - 10s/epoch - 3s/step\n"
     ]
    },
    {
     "name": "stderr",
     "output_type": "stream",
     "text": [
      "2024-12-28 08:11:57.662326: I tensorflow/core/grappler/optimizers/custom_graph_optimizer_registry.cc:114] Plugin optimizer for device_type GPU is enabled.\n"
     ]
    },
    {
     "name": "stdout",
     "output_type": "stream",
     "text": [
      "14/14 [==============================] - 5s 320ms/step\n",
      "              precision    recall  f1-score   support\n",
      "\n",
      "           0       0.55      0.64      0.59       101\n",
      "           1       0.52      0.37      0.43        81\n",
      "           2       0.50      0.66      0.57        83\n",
      "           3       0.92      0.79      0.85        98\n",
      "           4       0.50      0.45      0.47        82\n",
      "\n",
      "    accuracy                           0.59       445\n",
      "   macro avg       0.60      0.58      0.58       445\n",
      "weighted avg       0.61      0.59      0.59       445\n",
      "\n"
     ]
    }
   ],
   "source": [
    "# SimpleRNN\n",
    "\n",
    "\n",
    "# Model building\n",
    "model = Sequential([\n",
    "    Embedding(max_features, embedding_size, weights=[embedding_matrix], input_length=maxlen, trainable=False),\n",
    "    SimpleRNN(100),\n",
    "    Dense(len(np.unique(df['Category'])), activation='softmax')\n",
    "])\n",
    "\n",
    "model.compile(loss='categorical_crossentropy', optimizer='adam', metrics=['accuracy'])\n",
    "\n",
    "# Use EarlyStopping\n",
    "\n",
    "from tensorflow.keras.callbacks import EarlyStopping\n",
    "\n",
    "early_stopping = EarlyStopping(monitor='val_loss', patience=5)\n",
    "\n",
    "# Model training\n",
    "model.fit(X_train, y_train,\n",
    "batch_size=batch_size, epochs=epochs, validation_data=(X_test, y_test), verbose=2,\n",
    "callbacks=[early_stopping])\n",
    "\n",
    "# Evaluate\n",
    "\n",
    "from sklearn.metrics import classification_report\n",
    "\n",
    "y_pred = model.predict(X_test)\n",
    "y_pred = np.argmax(y_pred, axis=1)\n",
    "y_test_argmax = np.argmax(y_test, axis=1)\n",
    "\n",
    "print(classification_report(y_test_argmax, y_pred))\n"
   ]
  },
  {
   "cell_type": "markdown",
   "metadata": {
    "id": "qhd6PBlGxjVs"
   },
   "source": [
    "# Inference"
   ]
  },
  {
   "cell_type": "code",
   "execution_count": 51,
   "metadata": {
    "id": "XpIDjTLfxklk"
   },
   "outputs": [],
   "source": [
    "def predict_category(text, tokenizer, model, label_encoder, max_len):\n",
    "  text = text.lower()\n",
    "\n",
    "  seq = tokenizer.texts_to_sequences([text])\n",
    "\n",
    "  padded_seq = pad_sequences(seq, maxlen = max_len)\n",
    "\n",
    "  pred = model.predict(padded_seq)\n",
    "\n",
    "  print(\"output of pred: \", pred)\n",
    "\n",
    "  pred_label_index = np.argmax(pred,axis=1)\n",
    "\n",
    "  pred_label = label_encoder.inverse_transform(pred_label_index)\n",
    "\n",
    "  return pred_label[0]"
   ]
  },
  {
   "cell_type": "code",
   "execution_count": 52,
   "metadata": {
    "colab": {
     "base_uri": "https://localhost:8080/"
    },
    "id": "ungcdVxjyHGh",
    "outputId": "1b7c0643-3ea1-4062-9111-07b56b101998"
   },
   "outputs": [
    {
     "name": "stdout",
     "output_type": "stream",
     "text": [
      "1/1 [==============================] - 1s 843ms/step\n",
      "output of pred:  [[0.00217702 0.1250456  0.02106843 0.8453252  0.00638374]]\n",
      "predicted category:  Sports\n"
     ]
    }
   ],
   "source": [
    "input_text = 'I love playing football in big field'\n",
    "\n",
    "predicted_category = predict_category(input_text, tokenizer, model, le, maxlen)\n",
    "\n",
    "print(\"predicted category: \", predicted_category)"
   ]
  }
 ],
 "metadata": {
  "colab": {
   "provenance": []
  },
  "kernelspec": {
   "display_name": "Python 3 (ipykernel)",
   "language": "python",
   "name": "python3"
  },
  "language_info": {
   "codemirror_mode": {
    "name": "ipython",
    "version": 3
   },
   "file_extension": ".py",
   "mimetype": "text/x-python",
   "name": "python",
   "nbconvert_exporter": "python",
   "pygments_lexer": "ipython3",
   "version": "3.8.20"
  }
 },
 "nbformat": 4,
 "nbformat_minor": 4
}
